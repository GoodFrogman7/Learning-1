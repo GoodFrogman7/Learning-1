{
  "nbformat": 4,
  "nbformat_minor": 0,
  "metadata": {
    "colab": {
      "provenance": [],
      "toc_visible": true,
      "authorship_tag": "ABX9TyPae4kluMguXnzYKMa46FJA",
      "include_colab_link": true
    },
    "kernelspec": {
      "name": "python3",
      "display_name": "Python 3"
    },
    "language_info": {
      "name": "python"
    }
  },
  "cells": [
    {
      "cell_type": "markdown",
      "metadata": {
        "id": "view-in-github",
        "colab_type": "text"
      },
      "source": [
        "<a href=\"https://colab.research.google.com/github/GoodFrogman7/Learning-1/blob/main/Day_1_Pybasics.ipynb\" target=\"_parent\"><img src=\"https://colab.research.google.com/assets/colab-badge.svg\" alt=\"Open In Colab\"/></a>"
      ]
    },
    {
      "cell_type": "code",
      "execution_count": 1,
      "metadata": {
        "id": "gvoli74i72Lv"
      },
      "outputs": [],
      "source": [
        "a=10"
      ]
    },
    {
      "cell_type": "code",
      "source": [
        "b=3.5\n"
      ],
      "metadata": {
        "id": "_2eYPT248DBD"
      },
      "execution_count": 2,
      "outputs": []
    },
    {
      "cell_type": "code",
      "source": [
        "name = 'Data science' #string\n",
        "is_active = True   #Boolean\n",
        "print(a, b, name, is_active)"
      ],
      "metadata": {
        "colab": {
          "base_uri": "https://localhost:8080/"
        },
        "id": "1tZu56KU8O1W",
        "outputId": "67ca7747-c1c5-4162-ff85-57bbe691485d"
      },
      "execution_count": 3,
      "outputs": [
        {
          "output_type": "stream",
          "name": "stdout",
          "text": [
            "10 3.5 Data science True\n"
          ]
        }
      ]
    },
    {
      "cell_type": "markdown",
      "source": [
        "**Input/Output in python**:"
      ],
      "metadata": {
        "id": "gawZ8Uu68qzs"
      }
    },
    {
      "cell_type": "code",
      "source": [
        "name = input(\"Enter your name: \")\n",
        "print(f\"Hello,{name}!\")"
      ],
      "metadata": {
        "colab": {
          "base_uri": "https://localhost:8080/"
        },
        "id": "d7h2H2iP8y-C",
        "outputId": "526a66a9-5d39-4ab2-906e-a8abf580c2b8"
      },
      "execution_count": 4,
      "outputs": [
        {
          "output_type": "stream",
          "name": "stdout",
          "text": [
            "Enter your name: Satyansh\n",
            "Hello,Satyansh!\n"
          ]
        }
      ]
    },
    {
      "cell_type": "markdown",
      "source": [
        "**Conditionals: If-else statements.**"
      ],
      "metadata": {
        "id": "BCul70la9Biv"
      }
    },
    {
      "cell_type": "code",
      "source": [
        "x = 10\n",
        "if x > 5:\n",
        "  print(\"x is greater than 5\")\n",
        "else:\n",
        "  print(\"x is less than or eqal to 5\")"
      ],
      "metadata": {
        "colab": {
          "base_uri": "https://localhost:8080/"
        },
        "id": "sOH6pFPk9EYf",
        "outputId": "a6a0a357-3e2e-4ce6-8a0d-7908fd2d7e03"
      },
      "execution_count": 6,
      "outputs": [
        {
          "output_type": "stream",
          "name": "stdout",
          "text": [
            "x is greater than 5\n"
          ]
        }
      ]
    },
    {
      "cell_type": "markdown",
      "source": [
        "**Loops:**\n",
        "\n",
        "1.  * For loops and while loops*\n",
        "\n",
        "\n",
        "\n",
        "\n",
        "\n",
        "\n",
        "\n",
        "\n",
        "\n",
        "\n"
      ],
      "metadata": {
        "id": "75pzgrhq9T_3"
      }
    },
    {
      "cell_type": "code",
      "source": [
        "#for loop\n",
        "for i in range(1,6):\n",
        "  print(f\"Number: {i}\")\n",
        "\n",
        "  #while loop\n",
        "  count = 0\n",
        "  while count < 5:\n",
        "    print(f\"count is {count}\")\n",
        "    count += 1"
      ],
      "metadata": {
        "colab": {
          "base_uri": "https://localhost:8080/"
        },
        "id": "lp0rC4EB9rMl",
        "outputId": "d818abc7-095a-4e73-98f6-e41aaab1a96f"
      },
      "execution_count": 8,
      "outputs": [
        {
          "output_type": "stream",
          "name": "stdout",
          "text": [
            "Number: 1\n",
            "count is 0\n",
            "count is 1\n",
            "count is 2\n",
            "count is 3\n",
            "count is 4\n",
            "Number: 2\n",
            "count is 0\n",
            "count is 1\n",
            "count is 2\n",
            "count is 3\n",
            "count is 4\n",
            "Number: 3\n",
            "count is 0\n",
            "count is 1\n",
            "count is 2\n",
            "count is 3\n",
            "count is 4\n",
            "Number: 4\n",
            "count is 0\n",
            "count is 1\n",
            "count is 2\n",
            "count is 3\n",
            "count is 4\n",
            "Number: 5\n",
            "count is 0\n",
            "count is 1\n",
            "count is 2\n",
            "count is 3\n",
            "count is 4\n"
          ]
        }
      ]
    },
    {
      "cell_type": "markdown",
      "source": [
        "**Functions: Define and call functions**\n"
      ],
      "metadata": {
        "id": "qfu9UO8W-2Yc"
      }
    },
    {
      "cell_type": "code",
      "source": [
        "def greet(name):\n",
        "  return f\"hello, {name}!\"\n",
        "\n",
        "  print(greet(\"satyansh\"))"
      ],
      "metadata": {
        "id": "nD2j_9EY-8iD"
      },
      "execution_count": 12,
      "outputs": []
    },
    {
      "cell_type": "markdown",
      "source": [
        " **calculate the area of a rectangle.**\n",
        "\n",
        "\n",
        "\n",
        "\n",
        "\n",
        "\n",
        "\n"
      ],
      "metadata": {
        "id": "iPOlCU3b_9Po"
      }
    },
    {
      "cell_type": "code",
      "source": [
        "#Promt user for info about length and width of the rectangle\n",
        "length = float(input(\"Enter the length of the recgangle:\"))\n",
        "width = float(input(\"Enter the width of the rectangle:\"))\n",
        "\n",
        "#Calculate the area\n",
        "area = length * width\n",
        "\n",
        "#Print the result\n",
        "print(f\"the area of the rectangle is : {area}\")"
      ],
      "metadata": {
        "colab": {
          "base_uri": "https://localhost:8080/"
        },
        "id": "N5izU-Vy_-34",
        "outputId": "0406e6f3-6b45-49ed-9053-e50338eca1e5"
      },
      "execution_count": 14,
      "outputs": [
        {
          "output_type": "stream",
          "name": "stdout",
          "text": [
            "Enter the length of the recgangle:4.3\n",
            "Enter the width of the rectangle:2.2\n",
            "the area of the rectangle is : 9.46\n"
          ]
        }
      ]
    },
    {
      "cell_type": "markdown",
      "source": [
        "**Convert Celsius to Fahrenheit**.\n",
        "#Prompt the user for a temperature in Celsius, then convert it to Fahrenheit and print the result."
      ],
      "metadata": {
        "id": "8wKaPxJWBA3X"
      }
    },
    {
      "cell_type": "code",
      "source": [
        "#promt the user for temp in celcius\n",
        "celc = float(input(f\"Enter the temp in celcius:\"))\n",
        "\n",
        "#convert celcius to fahrenheit\n",
        "fahrenheit = (celc * 9/5) + 32\n",
        "\n",
        "#print the result\n",
        "print(f\"{celc} degree celcius is {fahrenheit} degree fahreheit\")"
      ],
      "metadata": {
        "colab": {
          "base_uri": "https://localhost:8080/"
        },
        "id": "48kybtHrBLLb",
        "outputId": "7cd8eea4-82c2-429d-ccf3-214bc1133388"
      },
      "execution_count": 18,
      "outputs": [
        {
          "output_type": "stream",
          "name": "stdout",
          "text": [
            "Enter the temp in celcius:32.8\n",
            "32.8 degree celcius is 91.03999999999999 degree fahreheit\n"
          ]
        }
      ]
    },
    {
      "cell_type": "markdown",
      "source": [
        "**Check if a number is even or odd:**"
      ],
      "metadata": {
        "id": "cQ7ltFTsKQzT"
      }
    },
    {
      "cell_type": "code",
      "source": [
        "# prompt: Check if a number is even or odd.\n",
        "\n",
        "# **Check if a number is even or odd:**\n",
        "\n",
        "# Prompt the user for a number\n",
        "num = int(input(\"Enter a number: \"))\n",
        "\n",
        "# Check if the number is even or odd\n",
        "if num % 2 == 0:\n",
        "    print(f\"{num} is even.\")\n",
        "else:\n",
        "    print(f\"{num} is odd.\")"
      ],
      "metadata": {
        "id": "DqITm0FrKayB"
      },
      "execution_count": null,
      "outputs": []
    },
    {
      "cell_type": "code",
      "source": [
        "#prompt the user for a number, then determine and print whether it is even or odd\n",
        "num = int(input(\"Enter a number:\"))\n",
        "if num % 2 == 0:\n",
        "  print(f\"{num} is even\")\n",
        "else:\n",
        "    print(f\"{num} is odd\")"
      ],
      "metadata": {
        "colab": {
          "base_uri": "https://localhost:8080/"
        },
        "id": "dx7xgDKtKjdl",
        "outputId": "d3ac0969-3033-4d14-dd2b-25ad064d55d6"
      },
      "execution_count": 23,
      "outputs": [
        {
          "output_type": "stream",
          "name": "stdout",
          "text": [
            "Enter a number:6\n",
            "6 is even\n"
          ]
        }
      ]
    },
    {
      "cell_type": "markdown",
      "source": [
        "**Find the largest number among three numbers.**\n",
        "Prompt the user for three numbers, then find and print the largest of the three."
      ],
      "metadata": {
        "id": "Kx55ECuaLVmH"
      }
    },
    {
      "cell_type": "code",
      "source": [
        "# prompt: Find the largest number among three numbers. Prompt the user for three numbers, then find and print the largest of the three.\n",
        "\n",
        "# Prompt the user for three numbers\n",
        "num1 = float(input(\"Enter the first number: \"))\n",
        "num2 = float(input(\"Enter the second number: \"))\n",
        "num3 = float(input(\"Enter the third number: \"))\n",
        "\n",
        "# Find the largest number\n",
        "largest_number = num1\n",
        "\n",
        "if num2 > largest_number:\n",
        "    largest_number = num2\n",
        "\n",
        "if num3 > largest_number:\n",
        "    largest_number = num3\n",
        "\n",
        "# Print the largest number\n",
        "print(f\"The largest number is: {largest_number}\")"
      ],
      "metadata": {
        "id": "fYjtTtRjLWk_"
      },
      "execution_count": null,
      "outputs": []
    },
    {
      "cell_type": "code",
      "source": [
        "#prompt the user for three numbers\n",
        "num1 = float(input(\"Enter the first number:\"))\n",
        "num2 = float(input(\"Enter the second number:\"))\n",
        "num3 = float(input(\"Enter the third number:\"))\n",
        "\n",
        "#Find the largest number\n",
        "Largest_num = num1\n",
        "if num2 > Largest_num:\n",
        "  Largest_num = num2\n",
        "if num3 > Largest_num:\n",
        "  Largest_num = num3\n",
        "\n",
        "#Print largest number\n",
        "print(f\"Largest number is {Largest_num}\")"
      ],
      "metadata": {
        "colab": {
          "base_uri": "https://localhost:8080/"
        },
        "id": "so8PSeYiLp_Q",
        "outputId": "3dae9948-9500-4495-f423-af47e38e8de6"
      },
      "execution_count": 25,
      "outputs": [
        {
          "output_type": "stream",
          "name": "stdout",
          "text": [
            "Enter the first number:2\n",
            "Enter the second number:1\n",
            "Enter the third number:4\n",
            "Largest number is 4.0\n"
          ]
        }
      ]
    },
    {
      "cell_type": "markdown",
      "source": [
        "Intermediate:\n",
        "\n",
        "*   Reverse a string\n",
        "*   Check if a string is a palindrome.\n",
        "\n",
        "\n",
        "*   Calculate the factorial of a number.\n",
        "*   Generate a Fibonacci sequence.\n",
        "\n",
        "*   Find the common elements in two lists.\n",
        "\n",
        "\n",
        "\n",
        "\n",
        "\n"
      ],
      "metadata": {
        "id": "QJMr18P9MkKg"
      }
    },
    {
      "cell_type": "code",
      "source": [
        "# prompt: Reverse a string. Prompt the user for a string, then reverse it and print the reversed string.\n",
        "\n",
        "# Prompt the user for a string\n",
        "input_string = input(\"Enter a string: \")\n",
        "\n",
        "# Reverse the string\n",
        "reversed_string = input_string[::-1]\n",
        "\n",
        "# Print the reversed string\n",
        "print(f\"The reversed string is: {reversed_string}\")"
      ],
      "metadata": {
        "id": "H1ky5VmYM7wl"
      },
      "execution_count": null,
      "outputs": []
    },
    {
      "cell_type": "code",
      "source": [
        "#prompt reverse a string, ask a user for a string, then reverse it and print it\n",
        "\n",
        "#Prompt the user for a string\n",
        "input_string = input(\"Enter a string:\")\n",
        "\n",
        "#Reverse the string\n",
        "reversed_string = input_string[::-1]\n",
        "\n",
        "#Print the reversed string\n",
        "print(f\"The reversed string is: {reversed_string}\")"
      ],
      "metadata": {
        "colab": {
          "base_uri": "https://localhost:8080/"
        },
        "id": "AoKOWDbs66BU",
        "outputId": "f26425e8-c18d-41d7-f5bc-a6d938d96421"
      },
      "execution_count": 3,
      "outputs": [
        {
          "output_type": "stream",
          "name": "stdout",
          "text": [
            "Enter a string:breakup\n",
            "The reversed string is: pukaerb\n"
          ]
        }
      ]
    },
    {
      "cell_type": "code",
      "source": [],
      "metadata": {
        "id": "piY1eSgL75Av"
      },
      "execution_count": null,
      "outputs": []
    },
    {
      "cell_type": "markdown",
      "source": [
        "**Check if a string is a palindrome.**\n",
        "\n",
        "Prompt the user for a string, then determine and print whether it's a palindrome (reads the same backward as forward)."
      ],
      "metadata": {
        "id": "lrpYpGBrYGlN"
      }
    },
    {
      "cell_type": "code",
      "source": [
        "# prompt: Check if a string is a palindrome. Prompt the user for a string, then determine and print whether it's a palindrome (reads the same backward as forward).\n",
        "\n",
        "# Prompt the user for a string\n",
        "input_string = input(\"Enter a string: \")\n",
        "\n",
        "# Remove whitespace and convert to lowercase for case-insensitive comparison\n",
        "processed_string = input_string.replace(\" \", \"\").lower()\n",
        "\n",
        "# Reverse the processed string\n",
        "reversed_string = processed_string[::-1]\n",
        "\n",
        "# Check if the processed string is equal to its reverse\n",
        "if processed_string == reversed_string:\n",
        "    print(f\"'{input_string}' is a palindrome.\")\n",
        "else:\n",
        "    print(f\"'{input_string}' is not a palindrome.\")"
      ],
      "metadata": {
        "id": "hWqnyJMpYRYI"
      },
      "execution_count": null,
      "outputs": []
    },
    {
      "cell_type": "code",
      "source": [],
      "metadata": {
        "id": "KYKiMDeUYcFA"
      },
      "execution_count": null,
      "outputs": []
    }
  ]
}