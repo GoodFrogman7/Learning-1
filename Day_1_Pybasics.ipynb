{
  "cells": [
    {
      "cell_type": "markdown",
      "metadata": {
        "id": "view-in-github",
        "colab_type": "text"
      },
      "source": [
        "<a href=\"https://colab.research.google.com/github/GoodFrogman7/Learning-1/blob/main/Day_1_Pybasics.ipynb\" target=\"_parent\"><img src=\"https://colab.research.google.com/assets/colab-badge.svg\" alt=\"Open In Colab\"/></a>"
      ]
    },
    {
      "cell_type": "code",
      "execution_count": null,
      "metadata": {
        "id": "gvoli74i72Lv"
      },
      "outputs": [],
      "source": [
        "a=10"
      ]
    },
    {
      "cell_type": "code",
      "execution_count": null,
      "metadata": {
        "id": "_2eYPT248DBD"
      },
      "outputs": [],
      "source": [
        "b=3.5\n"
      ]
    },
    {
      "cell_type": "code",
      "execution_count": null,
      "metadata": {
        "colab": {
          "base_uri": "https://localhost:8080/"
        },
        "id": "1tZu56KU8O1W",
        "outputId": "67ca7747-c1c5-4162-ff85-57bbe691485d"
      },
      "outputs": [
        {
          "name": "stdout",
          "output_type": "stream",
          "text": [
            "10 3.5 Data science True\n"
          ]
        }
      ],
      "source": [
        "name = 'Data science' #string\n",
        "is_active = True   #Boolean\n",
        "print(a, b, name, is_active)"
      ]
    },
    {
      "cell_type": "markdown",
      "metadata": {
        "id": "gawZ8Uu68qzs"
      },
      "source": [
        "**Input/Output in python**:"
      ]
    },
    {
      "cell_type": "code",
      "execution_count": null,
      "metadata": {
        "colab": {
          "base_uri": "https://localhost:8080/"
        },
        "id": "d7h2H2iP8y-C",
        "outputId": "526a66a9-5d39-4ab2-906e-a8abf580c2b8"
      },
      "outputs": [
        {
          "name": "stdout",
          "output_type": "stream",
          "text": [
            "Enter your name: Satyansh\n",
            "Hello,Satyansh!\n"
          ]
        }
      ],
      "source": [
        "name = input(\"Enter your name: \")\n",
        "print(f\"Hello,{name}!\")"
      ]
    },
    {
      "cell_type": "markdown",
      "metadata": {
        "id": "BCul70la9Biv"
      },
      "source": [
        "**Conditionals: If-else statements.**"
      ]
    },
    {
      "cell_type": "code",
      "execution_count": null,
      "metadata": {
        "colab": {
          "base_uri": "https://localhost:8080/"
        },
        "id": "sOH6pFPk9EYf",
        "outputId": "a6a0a357-3e2e-4ce6-8a0d-7908fd2d7e03"
      },
      "outputs": [
        {
          "name": "stdout",
          "output_type": "stream",
          "text": [
            "x is greater than 5\n"
          ]
        }
      ],
      "source": [
        "x = 10\n",
        "if x > 5:\n",
        "  print(\"x is greater than 5\")\n",
        "else:\n",
        "  print(\"x is less than or eqal to 5\")"
      ]
    },
    {
      "cell_type": "markdown",
      "metadata": {
        "id": "75pzgrhq9T_3"
      },
      "source": [
        "**Loops:**\n",
        "\n",
        "1.  * For loops and while loops*\n",
        "\n",
        "\n",
        "\n",
        "\n",
        "\n",
        "\n",
        "\n",
        "\n",
        "\n",
        "\n"
      ]
    },
    {
      "cell_type": "code",
      "execution_count": null,
      "metadata": {
        "colab": {
          "base_uri": "https://localhost:8080/"
        },
        "id": "lp0rC4EB9rMl",
        "outputId": "d818abc7-095a-4e73-98f6-e41aaab1a96f"
      },
      "outputs": [
        {
          "name": "stdout",
          "output_type": "stream",
          "text": [
            "Number: 1\n",
            "count is 0\n",
            "count is 1\n",
            "count is 2\n",
            "count is 3\n",
            "count is 4\n",
            "Number: 2\n",
            "count is 0\n",
            "count is 1\n",
            "count is 2\n",
            "count is 3\n",
            "count is 4\n",
            "Number: 3\n",
            "count is 0\n",
            "count is 1\n",
            "count is 2\n",
            "count is 3\n",
            "count is 4\n",
            "Number: 4\n",
            "count is 0\n",
            "count is 1\n",
            "count is 2\n",
            "count is 3\n",
            "count is 4\n",
            "Number: 5\n",
            "count is 0\n",
            "count is 1\n",
            "count is 2\n",
            "count is 3\n",
            "count is 4\n"
          ]
        }
      ],
      "source": [
        "#for loop\n",
        "for i in range(1,6):\n",
        "  print(f\"Number: {i}\")\n",
        "\n",
        "  #while loop\n",
        "  count = 0\n",
        "  while count < 5:\n",
        "    print(f\"count is {count}\")\n",
        "    count += 1"
      ]
    },
    {
      "cell_type": "markdown",
      "metadata": {
        "id": "qfu9UO8W-2Yc"
      },
      "source": [
        "**Functions: Define and call functions**\n"
      ]
    },
    {
      "cell_type": "code",
      "execution_count": null,
      "metadata": {
        "id": "nD2j_9EY-8iD"
      },
      "outputs": [],
      "source": [
        "def greet(name):\n",
        "  return f\"hello, {name}!\"\n",
        "\n",
        "  print(greet(\"satyansh\"))"
      ]
    },
    {
      "cell_type": "markdown",
      "metadata": {
        "id": "iPOlCU3b_9Po"
      },
      "source": [
        " **calculate the area of a rectangle.**\n",
        "\n",
        "\n",
        "\n",
        "\n",
        "\n",
        "\n",
        "\n"
      ]
    },
    {
      "cell_type": "code",
      "execution_count": null,
      "metadata": {
        "colab": {
          "base_uri": "https://localhost:8080/"
        },
        "id": "N5izU-Vy_-34",
        "outputId": "0406e6f3-6b45-49ed-9053-e50338eca1e5"
      },
      "outputs": [
        {
          "name": "stdout",
          "output_type": "stream",
          "text": [
            "Enter the length of the recgangle:4.3\n",
            "Enter the width of the rectangle:2.2\n",
            "the area of the rectangle is : 9.46\n"
          ]
        }
      ],
      "source": [
        "#Promt user for info about length and width of the rectangle\n",
        "length = float(input(\"Enter the length of the recgangle:\"))\n",
        "width = float(input(\"Enter the width of the rectangle:\"))\n",
        "\n",
        "#Calculate the area\n",
        "area = length * width\n",
        "\n",
        "#Print the result\n",
        "print(f\"the area of the rectangle is : {area}\")"
      ]
    },
    {
      "cell_type": "markdown",
      "metadata": {
        "id": "8wKaPxJWBA3X"
      },
      "source": [
        "**Convert Celsius to Fahrenheit**.\n",
        "#Prompt the user for a temperature in Celsius, then convert it to Fahrenheit and print the result."
      ]
    },
    {
      "cell_type": "code",
      "execution_count": null,
      "metadata": {
        "colab": {
          "base_uri": "https://localhost:8080/"
        },
        "id": "48kybtHrBLLb",
        "outputId": "7cd8eea4-82c2-429d-ccf3-214bc1133388"
      },
      "outputs": [
        {
          "name": "stdout",
          "output_type": "stream",
          "text": [
            "Enter the temp in celcius:32.8\n",
            "32.8 degree celcius is 91.03999999999999 degree fahreheit\n"
          ]
        }
      ],
      "source": [
        "#promt the user for temp in celcius\n",
        "celc = float(input(f\"Enter the temp in celcius:\"))\n",
        "\n",
        "#convert celcius to fahrenheit\n",
        "fahrenheit = (celc * 9/5) + 32\n",
        "\n",
        "#print the result\n",
        "print(f\"{celc} degree celcius is {fahrenheit} degree fahreheit\")"
      ]
    },
    {
      "cell_type": "markdown",
      "metadata": {
        "id": "cQ7ltFTsKQzT"
      },
      "source": [
        "**Check if a number is even or odd:**"
      ]
    },
    {
      "cell_type": "code",
      "execution_count": null,
      "metadata": {
        "id": "DqITm0FrKayB"
      },
      "outputs": [],
      "source": [
        "# prompt: Check if a number is even or odd.\n",
        "\n",
        "# **Check if a number is even or odd:**\n",
        "\n",
        "# Prompt the user for a number\n",
        "num = int(input(\"Enter a number: \"))\n",
        "\n",
        "# Check if the number is even or odd\n",
        "if num % 2 == 0:\n",
        "    print(f\"{num} is even.\")\n",
        "else:\n",
        "    print(f\"{num} is odd.\")"
      ]
    },
    {
      "cell_type": "code",
      "execution_count": null,
      "metadata": {
        "colab": {
          "base_uri": "https://localhost:8080/"
        },
        "id": "dx7xgDKtKjdl",
        "outputId": "d3ac0969-3033-4d14-dd2b-25ad064d55d6"
      },
      "outputs": [
        {
          "name": "stdout",
          "output_type": "stream",
          "text": [
            "Enter a number:6\n",
            "6 is even\n"
          ]
        }
      ],
      "source": [
        "#prompt the user for a number, then determine and print whether it is even or odd\n",
        "num = int(input(\"Enter a number:\"))\n",
        "if num % 2 == 0:\n",
        "  print(f\"{num} is even\")\n",
        "else:\n",
        "    print(f\"{num} is odd\")"
      ]
    },
    {
      "cell_type": "markdown",
      "metadata": {
        "id": "Kx55ECuaLVmH"
      },
      "source": [
        "**Find the largest number among three numbers.**\n",
        "Prompt the user for three numbers, then find and print the largest of the three."
      ]
    },
    {
      "cell_type": "code",
      "execution_count": null,
      "metadata": {
        "id": "fYjtTtRjLWk_"
      },
      "outputs": [],
      "source": [
        "# prompt: Find the largest number among three numbers. Prompt the user for three numbers, then find and print the largest of the three.\n",
        "\n",
        "# Prompt the user for three numbers\n",
        "num1 = float(input(\"Enter the first number: \"))\n",
        "num2 = float(input(\"Enter the second number: \"))\n",
        "num3 = float(input(\"Enter the third number: \"))\n",
        "\n",
        "# Find the largest number\n",
        "largest_number = num1\n",
        "\n",
        "if num2 > largest_number:\n",
        "    largest_number = num2\n",
        "\n",
        "if num3 > largest_number:\n",
        "    largest_number = num3\n",
        "\n",
        "# Print the largest number\n",
        "print(f\"The largest number is: {largest_number}\")"
      ]
    },
    {
      "cell_type": "code",
      "execution_count": null,
      "metadata": {
        "colab": {
          "base_uri": "https://localhost:8080/"
        },
        "id": "so8PSeYiLp_Q",
        "outputId": "3dae9948-9500-4495-f423-af47e38e8de6"
      },
      "outputs": [
        {
          "name": "stdout",
          "output_type": "stream",
          "text": [
            "Enter the first number:2\n",
            "Enter the second number:1\n",
            "Enter the third number:4\n",
            "Largest number is 4.0\n"
          ]
        }
      ],
      "source": [
        "#prompt the user for three numbers\n",
        "num1 = float(input(\"Enter the first number:\"))\n",
        "num2 = float(input(\"Enter the second number:\"))\n",
        "num3 = float(input(\"Enter the third number:\"))\n",
        "\n",
        "#Find the largest number\n",
        "Largest_num = num1\n",
        "if num2 > Largest_num:\n",
        "  Largest_num = num2\n",
        "if num3 > Largest_num:\n",
        "  Largest_num = num3\n",
        "\n",
        "#Print largest number\n",
        "print(f\"Largest number is {Largest_num}\")"
      ]
    },
    {
      "cell_type": "markdown",
      "metadata": {
        "id": "QJMr18P9MkKg"
      },
      "source": [
        "Intermediate:\n",
        "\n",
        "*   Reverse a string\n",
        "*   Check if a string is a palindrome.\n",
        "\n",
        "\n",
        "*   Calculate the factorial of a number.\n",
        "*   Generate a Fibonacci sequence.\n",
        "\n",
        "*   Find the common elements in two lists.\n",
        "\n",
        "\n",
        "\n",
        "\n",
        "\n"
      ]
    },
    {
      "cell_type": "code",
      "execution_count": null,
      "metadata": {
        "id": "H1ky5VmYM7wl"
      },
      "outputs": [],
      "source": [
        "# prompt: Reverse a string. Prompt the user for a string, then reverse it and print the reversed string.\n",
        "\n",
        "# Prompt the user for a string\n",
        "input_string = input(\"Enter a string: \")\n",
        "\n",
        "# Reverse the string\n",
        "reversed_string = input_string[::-1]\n",
        "\n",
        "# Print the reversed string\n",
        "print(f\"The reversed string is: {reversed_string}\")"
      ]
    },
    {
      "cell_type": "code",
      "execution_count": null,
      "metadata": {
        "colab": {
          "base_uri": "https://localhost:8080/"
        },
        "id": "AoKOWDbs66BU",
        "outputId": "f26425e8-c18d-41d7-f5bc-a6d938d96421"
      },
      "outputs": [
        {
          "name": "stdout",
          "output_type": "stream",
          "text": [
            "Enter a string:breakup\n",
            "The reversed string is: pukaerb\n"
          ]
        }
      ],
      "source": [
        "#prompt reverse a string, ask a user for a string, then reverse it and print it\n",
        "\n",
        "#Prompt the user for a string\n",
        "input_string = input(\"Enter a string:\")\n",
        "\n",
        "#Reverse the string\n",
        "reversed_string = input_string[::-1]\n",
        "\n",
        "#Print the reversed string\n",
        "print(f\"The reversed string is: {reversed_string}\")"
      ]
    },
    {
      "cell_type": "code",
      "execution_count": null,
      "metadata": {
        "id": "piY1eSgL75Av"
      },
      "outputs": [],
      "source": []
    },
    {
      "cell_type": "markdown",
      "metadata": {
        "id": "lrpYpGBrYGlN"
      },
      "source": [
        "**Check if a string is a palindrome.**\n",
        "\n",
        "Prompt the user for a string, then determine and print whether it's a palindrome (reads the same backward as forward)."
      ]
    },
    {
      "cell_type": "code",
      "execution_count": null,
      "metadata": {
        "colab": {
          "base_uri": "https://localhost:8080/"
        },
        "id": "hWqnyJMpYRYI",
        "outputId": "d9a65b27-8ff7-4840-b374-d718609a1926"
      },
      "outputs": [
        {
          "name": "stdout",
          "output_type": "stream",
          "text": [
            "Enter a string: asd\n",
            "'asd' is not a palindrome.\n"
          ]
        }
      ],
      "source": [
        "# prompt: Check if a string is a palindrome. Prompt the user for a string, then determine and print whether it's a palindrome (reads the same backward as forward).\n",
        "\n",
        "# Prompt the user for a string\n",
        "input_string = input(\"Enter a string: \")\n",
        "\n",
        "# Remove whitespace and convert to lowercase for case-insensitive comparison\n",
        "processed_string = input_string.replace(\" \", \"\").lower()\n",
        "\n",
        "# Reverse the processed string\n",
        "reversed_string = processed_string[::-1]\n",
        "\n",
        "# Check if the processed string is equal to its reverse\n",
        "if processed_string == reversed_string:\n",
        "    print(f\"'{input_string}' is a palindrome.\")\n",
        "else:\n",
        "    print(f\"'{input_string}' is not a palindrome.\")"
      ]
    },
    {
      "cell_type": "code",
      "execution_count": null,
      "metadata": {
        "colab": {
          "base_uri": "https://localhost:8080/"
        },
        "id": "KYKiMDeUYcFA",
        "outputId": "c5bb3dd1-4c3c-445b-bb3b-b4b519a4aa9f"
      },
      "outputs": [
        {
          "name": "stdout",
          "output_type": "stream",
          "text": [
            "Enter a string:aba\n",
            "aba is  a palindrome\n"
          ]
        }
      ],
      "source": [
        "input_prompt = input(\"Enter a string:\")\n",
        "processed_string = input_prompt.replace(\" \",\"\").lower()\n",
        "reversed_string = processed_string[::-1]\n",
        "if processed_string == reversed_string:\n",
        "  print(f\"{input_prompt} is  a palindrome\")\n",
        "else:\n",
        "    print(f\"{input_prompt} is not a palindrome\")\n",
        "\n"
      ]
    },
    {
      "cell_type": "markdown",
      "metadata": {
        "id": "_405o5-dgqT1"
      },
      "source": [
        "# Write a program to implement a simple calculator with basic operations (addition, subtraction, multiplication, division)"
      ]
    },
    {
      "cell_type": "code",
      "execution_count": null,
      "metadata": {
        "id": "PqlSfgtbgxJA"
      },
      "outputs": [],
      "source": [
        "# prompt: Write a program to implement a simple calculator with basic operations (addition, subtraction, multiplication, division)\n",
        "\n",
        "# Function to perform addition\n",
        "def add(x, y):\n",
        "    return x + y\n",
        "\n",
        "# Function to perform subtraction\n",
        "def subtract(x, y):\n",
        "    return x - y\n",
        "\n",
        "# Function to perform multiplication\n",
        "def multiply(x, y):\n",
        "    return x * y\n",
        "\n",
        "# Function to perform division\n",
        "def divide(x, y):\n",
        "    if y == 0:\n",
        "        return \"Division by zero error!\"\n",
        "    else:\n",
        "        return x / y\n",
        "\n",
        "# Main calculator loop\n",
        "while True:\n",
        "    print(\"Select operation:\")\n",
        "    print(\"1. Add\")\n",
        "    print(\"2. Subtract\")\n",
        "    print(\"3. Multiply\")\n",
        "    print(\"4. Divide\")\n",
        "    print(\"5. Exit\")\n",
        "\n",
        "    choice = input(\"Enter choice(1/2/3/4/5): \")\n",
        "\n",
        "    if choice in ('1', '2', '3', '4'):\n",
        "        try:\n",
        "            num1 = float(input(\"Enter first number: \"))\n",
        "            num2 = float(input(\"Enter second number: \"))\n",
        "        except ValueError:\n",
        "            print(\"Invalid input. Please enter numbers only.\")\n",
        "            continue\n",
        "\n",
        "        if choice == '1':\n",
        "            print(num1, \"+\", num2, \"=\", add(num1, num2))\n",
        "\n",
        "        elif choice == '2':\n",
        "            print(num1, \"-\", num2, \"=\", subtract(num1, num2))\n",
        "\n",
        "        elif choice == '3':\n",
        "            print(num1, \"*\", num2, \"=\", multiply(num1, num2))\n",
        "\n",
        "        elif choice == '4':\n",
        "            print(num1, \"/\", num2, \"=\", divide(num1, num2))\n",
        "\n",
        "    elif choice == '5':\n",
        "        break\n",
        "    else:\n",
        "        print(\"Invalid Input\")"
      ]
    },
    {
      "cell_type": "code",
      "execution_count": null,
      "metadata": {
        "colab": {
          "background_save": true,
          "base_uri": "https://localhost:8080/"
        },
        "id": "NqL63j53g9zt",
        "outputId": "f4a83b04-235f-45b8-c63f-43984531c1df"
      },
      "outputs": [
        {
          "metadata": {
            "tags": null
          },
          "name": "stdout",
          "output_type": "stream",
          "text": [
            "Select operation:\n",
            "1.Add\n",
            "2.Subtraction\n",
            "3.Multiplication\n",
            "4.Division\n",
            "5.Exit\n",
            "4.0 * 3.0 = 12.0\n",
            "Select operation:\n",
            "1.Add\n",
            "2.Subtraction\n",
            "3.Multiplication\n",
            "4.Division\n",
            "5.Exit\n",
            "5.0 * 1363.6 = 6818.0\n",
            "Select operation:\n",
            "1.Add\n",
            "2.Subtraction\n",
            "3.Multiplication\n",
            "4.Division\n",
            "5.Exit\n",
            "5.0 * 13363.6 = 66818.0\n",
            "Select operation:\n",
            "1.Add\n",
            "2.Subtraction\n",
            "3.Multiplication\n",
            "4.Division\n",
            "5.Exit\n"
          ]
        }
      ],
      "source": [
        "#perform addition:\n",
        "def add(x,y):\n",
        "  return x + y\n",
        "#perform subtraction:\n",
        "def subtract(x,y):\n",
        "  return x - y\n",
        "#perform multiplication:\n",
        "def multiply(x,y):\n",
        "  return x * y\n",
        "#perform division:\n",
        "def divide(x,y):\n",
        "  if y == 0:\n",
        "    return \"Division by zero error!\"\n",
        "  else:\n",
        "    return x / y\n",
        "\n",
        "# Main calculator loop\n",
        "while True:\n",
        "  print(\"Select operation:\")\n",
        "  print(\"1.Add\")\n",
        "  print(\"2.Subtraction\")\n",
        "  print(\"3.Multiplication\")\n",
        "  print(\"4.Division\")\n",
        "  print(\"5.Exit\")\n",
        "  choice = input(\"Enter choice (1/2/3/4/5):\")\n",
        "\n",
        "  if choice in ('1','2','3','4'):\n",
        "    try:\n",
        "      num1 = float(input(\"Enter first number:\"))\n",
        "      num2 = float(input(\"Enter second number:\"))\n",
        "    except ValueError:\n",
        "      print(\"Invalid input. Please enter numbers only.\")\n",
        "      continue\n",
        "\n",
        "    if choice == '1':\n",
        "      print(num1, \"+\" , num2, \"=\" , add(num1,num2))\n",
        "    elif choice == '2':\n",
        "      print(num1, \"-\" , num2, \"=\", subtract(num1,num2))\n",
        "    elif choice == '3':\n",
        "      print(num1, \"*\", num2, \"=\",multiply(num1,num2))\n",
        "    elif choice == '4':\n",
        "      print(num1, \"/\", num2, \"=\", divide(num1,num2))\n",
        "\n",
        "  elif choice == '5':\n",
        "    break\n",
        "  else:\n",
        "    print(\"Invalid input\")\n",
        "\n",
        "\n",
        "\n"
      ]
    },
    {
      "cell_type": "markdown",
      "metadata": {
        "id": "yhD-7PJin87Y"
      },
      "source": [
        "#Write a program to find the largest element in a list.\n",
        "\n",
        "\n"
      ]
    },
    {
      "cell_type": "code",
      "execution_count": null,
      "metadata": {
        "id": "EgnZuapOoUGk"
      },
      "outputs": [],
      "source": [
        "# prompt: Write a program to find the largest element in a list. Hint: Iterate through the list, keeping track of the largest element found so far.\n",
        "\n",
        "def find_largest_element(data):\n",
        "    if not data:\n",
        "        return None  # Handle empty list case\n",
        "\n",
        "    largest = data[0]  # Initialize with the first element\n",
        "    for element in data:\n",
        "        if element > largest:\n",
        "            largest = element\n",
        "    return largest\n",
        "\n",
        "# Example usage:\n",
        "my_list = [1, 5, 2, 8, 3]\n",
        "largest_element = find_largest_element(my_list)\n",
        "print(f\"The largest element in the list is: {largest_element}\")"
      ]
    }
  ],
  "metadata": {
    "colab": {
      "toc_visible": true,
      "provenance": [],
      "authorship_tag": "ABX9TyO9zVEDqXZTajYa9ESCenoS",
      "include_colab_link": true
    },
    "kernelspec": {
      "display_name": "Python 3",
      "name": "python3"
    },
    "language_info": {
      "name": "python"
    }
  },
  "nbformat": 4,
  "nbformat_minor": 0
}